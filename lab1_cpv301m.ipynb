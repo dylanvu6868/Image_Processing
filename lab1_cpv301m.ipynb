{
 "cells": [
  {
   "cell_type": "code",
   "execution_count": 1,
   "metadata": {},
   "outputs": [],
   "source": [
    "import cv2\n",
    "import numpy as np"
   ]
  },
  {
   "cell_type": "code",
   "execution_count": 2,
   "metadata": {},
   "outputs": [],
   "source": [
    "def create_white_background(width=500, height=500):\n",
    "    # Create a white image (all pixel values set to 255)\n",
    "    return np.ones((height, width, 3), dtype=np.uint8) * 255"
   ]
  },
  {
   "cell_type": "code",
   "execution_count": 3,
   "metadata": {},
   "outputs": [],
   "source": [
    "# Variables to store the initial and final coordinates\n",
    "drawing = False\n",
    "ix, iy = -1, -1\n",
    "\n",
    "def draw_rectangle(event, x, y, flags, param):\n",
    "    global ix, iy, drawing\n",
    "    \n",
    "    if event == cv2.EVENT_LBUTTONDOWN:  # Start drawing\n",
    "        drawing = True\n",
    "        ix, iy = x, y\n",
    "    \n",
    "    elif event == cv2.EVENT_MOUSEMOVE:  # Update the rectangle as the mouse moves\n",
    "        if drawing:\n",
    "            img_copy = img.copy()\n",
    "            cv2.rectangle(img_copy, (ix, iy), (x, y), (0, 255, 0), 2)\n",
    "            cv2.imshow('Rectangle Drawer', img_copy)\n",
    "    \n",
    "    elif event == cv2.EVENT_LBUTTONUP:  # Stop drawing\n",
    "        drawing = False\n",
    "        cv2.rectangle(img, (ix, iy), (x, y), (0, 255, 0), 2)\n",
    "        cv2.imshow('Rectangle Drawer', img)\n",
    "\n",
    "# Initialize window and callback\n",
    "img = create_white_background()\n",
    "cv2.namedWindow('Rectangle Drawer')\n",
    "cv2.setMouseCallback('Rectangle Drawer', draw_rectangle)\n"
   ]
  },
  {
   "cell_type": "code",
   "execution_count": 4,
   "metadata": {},
   "outputs": [],
   "source": [
    "def translate_rectangle(p1, p2, tx, ty):\n",
    "    # Apply translation to the two points\n",
    "    new_p1 = (p1[0] + tx, p1[1] + ty)\n",
    "    new_p2 = (p2[0] + tx, p2[1] + ty)\n",
    "    \n",
    "    # Draw the translated rectangle on the image\n",
    "    img_copy = img.copy()\n",
    "    cv2.rectangle(img_copy, new_p1, new_p2, (255, 0, 0), 2)\n",
    "    cv2.imshow('Rectangle Drawer', img_copy)\n"
   ]
  },
  {
   "cell_type": "code",
   "execution_count": 5,
   "metadata": {},
   "outputs": [],
   "source": [
    "def rotate_rectangle(p1, p2, angle):\n",
    "    center = ((p1[0] + p2[0]) // 2, (p1[1] + p2[1]) // 2)\n",
    "    rot_matrix = cv2.getRotationMatrix2D(center, angle, 1.0)\n",
    "    \n",
    "    # Calculate the rotated rectangle's new corners\n",
    "    points = np.array([p1, (p1[0], p2[1]), p2, (p2[0], p1[1])], dtype=np.float32)\n",
    "    points = np.hstack([points, np.ones((4, 1), dtype=np.float32)])\n",
    "    \n",
    "    new_points = np.dot(rot_matrix, points.T).T.astype(int)\n",
    "    \n",
    "    # Draw the rotated rectangle\n",
    "    img_copy = img.copy()\n",
    "    cv2.polylines(img_copy, [new_points], isClosed=True, color=(0, 0, 255), thickness=2)\n",
    "    cv2.imshow('Rectangle Drawer', img_copy)\n"
   ]
  },
  {
   "cell_type": "code",
   "execution_count": 6,
   "metadata": {},
   "outputs": [],
   "source": [
    "def scale_rectangle(p1, p2, sx, sy):\n",
    "    center = ((p1[0] + p2[0]) // 2, (p1[1] + p2[1]) // 2)\n",
    "    \n",
    "    # Scale the rectangle's corners relative to the center\n",
    "    new_p1 = (int(center[0] + (p1[0] - center[0]) * sx), int(center[1] + (p1[1] - center[1]) * sy))\n",
    "    new_p2 = (int(center[0] + (p2[0] - center[0]) * sx), int(center[1] + (p2[1] - center[1]) * sy))\n",
    "    \n",
    "    # Draw the scaled rectangle\n",
    "    img_copy = img.copy()\n",
    "    cv2.rectangle(img_copy, new_p1, new_p2, (0, 0, 255), 2)\n",
    "    cv2.imshow('Rectangle Drawer', img_copy)\n"
   ]
  },
  {
   "cell_type": "code",
   "execution_count": 7,
   "metadata": {},
   "outputs": [
    {
     "ename": "NameError",
     "evalue": "name 'x' is not defined",
     "output_type": "error",
     "traceback": [
      "\u001b[1;31m---------------------------------------------------------------------------\u001b[0m",
      "\u001b[1;31mNameError\u001b[0m                                 Traceback (most recent call last)",
      "Cell \u001b[1;32mIn[7], line 13\u001b[0m\n\u001b[0;32m     10\u001b[0m     \u001b[38;5;28;01mbreak\u001b[39;00m\n\u001b[0;32m     12\u001b[0m \u001b[38;5;28;01melif\u001b[39;00m key \u001b[38;5;241m==\u001b[39m \u001b[38;5;28mord\u001b[39m(\u001b[38;5;124m'\u001b[39m\u001b[38;5;124mt\u001b[39m\u001b[38;5;124m'\u001b[39m):  \u001b[38;5;66;03m# Press 't' for translation\u001b[39;00m\n\u001b[1;32m---> 13\u001b[0m     translate_rectangle((ix, iy), (\u001b[43mx\u001b[49m, y), tx\u001b[38;5;241m=\u001b[39m\u001b[38;5;241m50\u001b[39m, ty\u001b[38;5;241m=\u001b[39m\u001b[38;5;241m30\u001b[39m)\n\u001b[0;32m     15\u001b[0m \u001b[38;5;28;01melif\u001b[39;00m key \u001b[38;5;241m==\u001b[39m \u001b[38;5;28mord\u001b[39m(\u001b[38;5;124m'\u001b[39m\u001b[38;5;124mr\u001b[39m\u001b[38;5;124m'\u001b[39m):  \u001b[38;5;66;03m# Press 'r' for rotation\u001b[39;00m\n\u001b[0;32m     16\u001b[0m     rotate_rectangle((ix, iy), (x, y), angle\u001b[38;5;241m=\u001b[39m\u001b[38;5;241m45\u001b[39m)\n",
      "\u001b[1;31mNameError\u001b[0m: name 'x' is not defined"
     ]
    },
    {
     "ename": "",
     "evalue": "",
     "output_type": "error",
     "traceback": [
      "\u001b[1;31mThe Kernel crashed while executing code in the current cell or a previous cell. \n",
      "\u001b[1;31mPlease review the code in the cell(s) to identify a possible cause of the failure. \n",
      "\u001b[1;31mClick <a href='https://aka.ms/vscodeJupyterKernelCrash'>here</a> for more info. \n",
      "\u001b[1;31mView Jupyter <a href='command:jupyter.viewOutput'>log</a> for further details."
     ]
    }
   ],
   "source": [
    "img = create_white_background()\n",
    "cv2.namedWindow('Rectangle Drawer')\n",
    "cv2.setMouseCallback('Rectangle Drawer', draw_rectangle)\n",
    "\n",
    "while True:\n",
    "    cv2.imshow('Rectangle Drawer', img)\n",
    "    \n",
    "    key = cv2.waitKey(1) & 0xFF\n",
    "    if key == ord('q'):  # Press 'q' to quit\n",
    "        break\n",
    "    \n",
    "    elif key == ord('t'):  # Press 't' for translation\n",
    "        translate_rectangle((ix, iy), (x, y), tx=50, ty=30)\n",
    "    \n",
    "    elif key == ord('r'):  # Press 'r' for rotation\n",
    "        rotate_rectangle((ix, iy), (x, y), angle=45)\n",
    "    \n",
    "    elif key == ord('s'):  # Press 's' for scaling\n",
    "        scale_rectangle((ix, iy), (x, y), sx=1.5, sy=1.5)\n",
    "\n",
    "cv2.destroyAllWindows()"
   ]
  }
 ],
 "metadata": {
  "kernelspec": {
   "display_name": "Python 3",
   "language": "python",
   "name": "python3"
  },
  "language_info": {
   "codemirror_mode": {
    "name": "ipython",
    "version": 3
   },
   "file_extension": ".py",
   "mimetype": "text/x-python",
   "name": "python",
   "nbconvert_exporter": "python",
   "pygments_lexer": "ipython3",
   "version": "3.12.6"
  }
 },
 "nbformat": 4,
 "nbformat_minor": 2
}
